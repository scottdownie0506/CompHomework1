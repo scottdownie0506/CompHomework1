{
 "cells": [
  {
   "cell_type": "code",
   "execution_count": 8,
   "id": "565384ec",
   "metadata": {},
   "outputs": [
    {
     "data": {
      "text/plain": [
       "['red', 'green', 'blue', 'yellow', 'orange']"
      ]
     },
     "execution_count": 8,
     "metadata": {},
     "output_type": "execute_result"
    }
   ],
   "source": [
    "# question 1\n",
    "fav_colors = [\"red\", \"green\", \"blue\", \"yellow\", \"orange\"]\n",
    "\n",
    "fav_colors"
   ]
  },
  {
   "cell_type": "code",
   "execution_count": 17,
   "id": "9cc711f6",
   "metadata": {},
   "outputs": [
    {
     "name": "stdout",
     "output_type": "stream",
     "text": [
      "[30, 33, 36, 39, 42, 45, 48, 51, 54, 57, 60]\n",
      "(30, 33, 36, 39, 42, 45, 48, 51, 54, 57, 60)\n"
     ]
    }
   ],
   "source": [
    "# question 2\n",
    "nums = list(range(30, 63, 3))\n",
    "print(nums)\n",
    "\n",
    "nums_tuple = tuple(nums)\n",
    "print(nums_tuple)"
   ]
  },
  {
   "cell_type": "code",
   "execution_count": 24,
   "id": "2afabc41",
   "metadata": {},
   "outputs": [
    {
     "name": "stdout",
     "output_type": "stream",
     "text": [
      "[0, 1, 2, 3, 4, 5]\n",
      "[0, 1, 3, 4, 5]\n",
      "[0, 1, 2.0, 3, 4, 5]\n",
      "6\n",
      "5\n",
      "0\n"
     ]
    }
   ],
   "source": [
    "# question 3\n",
    "\n",
    "list_3 = []\n",
    "\n",
    "list_3.append(0)\n",
    "list_3.append(1)\n",
    "list_3.append(2)\n",
    "list_3.append(3)\n",
    "list_3.append(4)\n",
    "list_3.append(5)\n",
    "print(list_3)\n",
    "\n",
    "del list_3[2]\n",
    "print(list_3)\n",
    "\n",
    "list_3.insert(2, 2.0)\n",
    "print(list_3)\n",
    "\n",
    "print(len(list_3))\n",
    "print(max(list_3))\n",
    "print(min(list_3))"
   ]
  },
  {
   "cell_type": "code",
   "execution_count": 30,
   "id": "00ff7119",
   "metadata": {},
   "outputs": [
    {
     "name": "stdout",
     "output_type": "stream",
     "text": [
      "[0, 1, 2, 3, 4, 5, 6, 7, 8, 9, 10]\n",
      "55\n"
     ]
    }
   ],
   "source": [
    "# question 4\n",
    "list_4 = list(range(0,11,1))\n",
    "print(list_4)\n",
    "\n",
    "print(list_4[0]+list_4[1]+list_4[2]+list_4[3]+list_4[4]+list_4[5]+list_4[6]+list_4[7]+list_4[8]+list_4[9]+list_4[10])"
   ]
  },
  {
   "cell_type": "code",
   "execution_count": null,
   "id": "4a968841",
   "metadata": {},
   "outputs": [],
   "source": []
  }
 ],
 "metadata": {
  "kernelspec": {
   "display_name": "Python 3",
   "language": "python",
   "name": "python3"
  },
  "language_info": {
   "codemirror_mode": {
    "name": "ipython",
    "version": 3
   },
   "file_extension": ".py",
   "mimetype": "text/x-python",
   "name": "python",
   "nbconvert_exporter": "python",
   "pygments_lexer": "ipython3",
   "version": "3.8.8"
  }
 },
 "nbformat": 4,
 "nbformat_minor": 5
}
